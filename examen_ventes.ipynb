
# 📊 Prévision des Ventes avec Machine Learning et Séries Temporelles

## 1️⃣ Chargement des données

```python
import pandas as pd
import numpy as np
import matplotlib.pyplot as plt
import seaborn as sns
from sklearn.model_selection import train_test_split
from sklearn.linear_model import LinearRegression
from sklearn.ensemble import RandomForestRegressor
from sklearn.metrics import mean_squared_error, r2_score
import statsmodels.api as sm

# Chargement des données
df = pd.read_csv('donnees_ventes.csv', parse_dates=['Date'], index_col='Date')

# Affichage des premières lignes
df.head()
```

## 2️⃣ Analyse exploratoire 📊

```python
plt.figure(figsize=(12,5))
sns.lineplot(data=df, x=df.index, y="Ventes", label="Ventes")
plt.title("Évolution des ventes")
plt.show()

sns.pairplot(df[["Ventes", "Prix", "Promo", "Saison", "JourFerie"]])
plt.show()
```

## 3️⃣ Préparation des données 🔍

```python
X = df[["Prix", "Promo", "Saison", "JourFerie"]]
y = df["Ventes"]

X_train, X_test, y_train, y_test = train_test_split(X, y, test_size=0.2, random_state=42)
```

## 4️⃣ Modélisation 📈

### Modèle de régression linéaire

```python
lr = LinearRegression()
lr.fit(X_train, y_train)
y_pred_lr = lr.predict(X_test)

print("Régression Linéaire - RMSE:", np.sqrt(mean_squared_error(y_test, y_pred_lr)))
print("Régression Linéaire - R²:", r2_score(y_test, y_pred_lr))
```

### Modèle Random Forest

```python
rf = RandomForestRegressor(n_estimators=100, random_state=42)
rf.fit(X_train, y_train)
y_pred_rf = rf.predict(X_test)

print("Random Forest - RMSE:", np.sqrt(mean_squared_error(y_test, y_pred_rf)))
print("Random Forest - R²:", r2_score(y_test, y_pred_rf))
```

### Modèle ARIMA

```python
model = sm.tsa.ARIMA(df["Ventes"], order=(5,1,0))
model_fit = model.fit()
df["ARIMA_Pred"] = model_fit.predict(start=len(df)-100, end=len(df)-1, typ='levels')

plt.figure(figsize=(12,5))
plt.plot(df["Ventes"], label="Ventes Réelles")
plt.plot(df["ARIMA_Pred"], label="Prédictions ARIMA", linestyle='dashed')
plt.legend()
plt.title("Prédictions ARIMA")
plt.show()
```

## 5️⃣ Comparaison des modèles ✅

Nous comparons les performances avec **RMSE et R²**, et retenons le meilleur modèle pour la prévision finale.

---

📌 **Prochaines étapes :** Déploiement en API Flask pour industrialisation.

🔗 **Lien GitHub à venir pour le projet.**
